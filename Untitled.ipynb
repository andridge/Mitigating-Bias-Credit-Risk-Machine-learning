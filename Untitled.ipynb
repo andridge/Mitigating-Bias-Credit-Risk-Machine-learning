{
 "cells": [
  {
   "cell_type": "code",
   "execution_count": 1,
   "id": "16eef78c-5308-486b-9094-dee8f857bff8",
   "metadata": {},
   "outputs": [
    {
     "ename": "ModuleNotFoundError",
     "evalue": "No module named 'tensorflow'",
     "output_type": "error",
     "traceback": [
      "\u001b[0;31m---------------------------------------------------------------------------\u001b[0m",
      "\u001b[0;31mModuleNotFoundError\u001b[0m                       Traceback (most recent call last)",
      "\u001b[1;32m/Users/andridgemunene/Desktop/OpenSeasons co/untitled folder 13/Untitled.ipynb Cell 1\u001b[0m line \u001b[0;36m7\n\u001b[1;32m      <a href='vscode-notebook-cell:/Users/andridgemunene/Desktop/OpenSeasons%20co/untitled%20folder%2013/Untitled.ipynb#W0sZmlsZQ%3D%3D?line=4'>5</a>\u001b[0m \u001b[39mfrom\u001b[39;00m \u001b[39msklearn\u001b[39;00m\u001b[39m.\u001b[39;00m\u001b[39mensemble\u001b[39;00m \u001b[39mimport\u001b[39;00m RandomForestClassifier\n\u001b[1;32m      <a href='vscode-notebook-cell:/Users/andridgemunene/Desktop/OpenSeasons%20co/untitled%20folder%2013/Untitled.ipynb#W0sZmlsZQ%3D%3D?line=5'>6</a>\u001b[0m \u001b[39mfrom\u001b[39;00m \u001b[39msklearn\u001b[39;00m\u001b[39m.\u001b[39;00m\u001b[39mmetrics\u001b[39;00m \u001b[39mimport\u001b[39;00m classification_report\n\u001b[0;32m----> <a href='vscode-notebook-cell:/Users/andridgemunene/Desktop/OpenSeasons%20co/untitled%20folder%2013/Untitled.ipynb#W0sZmlsZQ%3D%3D?line=6'>7</a>\u001b[0m \u001b[39mimport\u001b[39;00m \u001b[39mtensorflow\u001b[39;00m \u001b[39mas\u001b[39;00m \u001b[39mtf\u001b[39;00m\n\u001b[1;32m      <a href='vscode-notebook-cell:/Users/andridgemunene/Desktop/OpenSeasons%20co/untitled%20folder%2013/Untitled.ipynb#W0sZmlsZQ%3D%3D?line=7'>8</a>\u001b[0m \u001b[39mfrom\u001b[39;00m \u001b[39maif360\u001b[39;00m\u001b[39m.\u001b[39;00m\u001b[39mmetrics\u001b[39;00m \u001b[39mimport\u001b[39;00m BinaryLabelDatasetMetric, ClassificationMetric\n\u001b[1;32m      <a href='vscode-notebook-cell:/Users/andridgemunene/Desktop/OpenSeasons%20co/untitled%20folder%2013/Untitled.ipynb#W0sZmlsZQ%3D%3D?line=8'>9</a>\u001b[0m \u001b[39mfrom\u001b[39;00m \u001b[39maif360\u001b[39;00m\u001b[39m.\u001b[39;00m\u001b[39mdatasets\u001b[39;00m \u001b[39mimport\u001b[39;00m BinaryLabelDataset\n",
      "\u001b[0;31mModuleNotFoundError\u001b[0m: No module named 'tensorflow'"
     ]
    }
   ],
   "source": [
    "# Import necessary libraries\n",
    "import pandas as pd\n",
    "import numpy as np\n",
    "from sklearn.model_selection import train_test_split\n",
    "from sklearn.ensemble import RandomForestClassifier\n",
    "from sklearn.metrics import classification_report\n",
    "import tensorflow as tf\n",
    "from aif360.metrics import BinaryLabelDatasetMetric, ClassificationMetric\n",
    "from aif360.datasets import BinaryLabelDataset\n",
    "from aif360.algorithms.preprocessing import Reweighing\n",
    "\n",
    "# Load the dataset\n",
    "data = pd.read_csv('credit_risk_dataset.csv')  # Replace with the actual dataset path\n",
    "\n",
    "# Define features and labels\n",
    "features = data[['Age', 'Gender', 'Income', 'CreditScore']]\n",
    "labels = data['Approved']\n",
    "\n",
    "# Split the data into training and testing sets\n",
    "X_train, X_test, y_train, y_test = train_test_split(features, labels, test_size=0.2, random_state=42)\n",
    "\n",
    "# Train a Random Forest model for initial analysis\n",
    "rf_model = RandomForestClassifier(n_estimators=100, random_state=42)\n",
    "rf_model.fit(X_train, y_train)\n",
    "rf_predictions = rf_model.predict(X_test)\n",
    "\n",
    "# Evaluate the Random Forest model\n",
    "print(\"Random Forest Model Report:\")\n",
    "print(classification_report(y_test, rf_predictions))\n",
    "\n",
    "# Create a BinaryLabelDataset for AIF360\n",
    "privileged_groups = [{'Gender': 1}]  # Define privileged group based on Gender (e.g., 1 for males)\n",
    "unprivileged_groups = [{'Gender': 0}]  # Define unprivileged group based on Gender (e.g., 0 for females)\n",
    "protected_attribute = 'Gender'  # The attribute to test for bias\n",
    "\n",
    "dataset = BinaryLabelDataset(\n",
    "    favorable_label=1,  # Define the favorable label\n",
    "    unfavorable_label=0,  # Define the unfavorable label\n",
    "    df=data,  # The pandas DataFrame containing the dataset\n",
    "    label_names=['Approved'],  # Label names\n",
    "    protected_attribute_names=[protected_attribute],  # Protected attribute name\n",
    "    privileged_protected_attributes=privileged_groups,\n",
    "    unprivileged_protected_attributes=unprivileged_groups\n",
    ")\n",
    "\n",
    "# Compute metrics on the dataset\n",
    "metric = BinaryLabelDatasetMetric(dataset, unprivileged_groups=unprivileged_groups, privileged_groups=privileged_groups)\n",
    "classification_metric = ClassificationMetric(dataset, y_test, rf_predictions)\n",
    "\n",
    "# Check for disparate impact\n",
    "disparate_impact = metric.disparate_impact()\n",
    "print(f\"Disparate Impact: {disparate_impact}\")\n",
    "\n",
    "# Check for equal opportunity difference\n",
    "equal_opportunity_difference = classification_metric.equal_opportunity_difference()\n",
    "print(f\"Equal Opportunity Difference: {equal_opportunity_difference}\")\n",
    "\n",
    "# Apply reweighing to mitigate bias\n",
    "RW = Reweighing(unprivileged_groups=unprivileged_groups, privileged_groups=privileged_groups)\n",
    "transformed_dataset = RW.fit_transform(dataset)\n",
    "\n",
    "# Train a Random Forest model on the transformed dataset\n",
    "X_transformed = transformed_dataset.features\n",
    "y_transformed = transformed_dataset.labels.ravel()\n",
    "\n",
    "rf_model_transformed = RandomForestClassifier(n_estimators=100, random_state=42)\n",
    "rf_model_transformed.fit(X_transformed, y_transformed)\n",
    "rf_predictions_transformed = rf_model_transformed.predict(X_test)\n",
    "\n",
    "# Evaluate the transformed model\n",
    "print(\"Random Forest Model (Transformed) Report:\")\n",
    "print(classification_report(y_test, rf_predictions_transformed))\n"
   ]
  }
 ],
 "metadata": {
  "kernelspec": {
   "display_name": "Python 3 (ipykernel)",
   "language": "python",
   "name": "python3"
  },
  "language_info": {
   "codemirror_mode": {
    "name": "ipython",
    "version": 3
   },
   "file_extension": ".py",
   "mimetype": "text/x-python",
   "name": "python",
   "nbconvert_exporter": "python",
   "pygments_lexer": "ipython3",
   "version": "3.8.18"
  }
 },
 "nbformat": 4,
 "nbformat_minor": 5
}
